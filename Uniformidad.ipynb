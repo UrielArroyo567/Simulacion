{
  "nbformat": 4,
  "nbformat_minor": 0,
  "metadata": {
    "colab": {
      "provenance": [],
      "authorship_tag": "ABX9TyNXDc3W2lo7/EppcJTlixel",
      "include_colab_link": true
    },
    "kernelspec": {
      "name": "python3",
      "display_name": "Python 3"
    },
    "language_info": {
      "name": "python"
    }
  },
  "cells": [
    {
      "cell_type": "markdown",
      "metadata": {
        "id": "view-in-github",
        "colab_type": "text"
      },
      "source": [
        "<a href=\"https://colab.research.google.com/github/UrielArroyo567/Simulacion/blob/main/Uniformidad.ipynb\" target=\"_parent\"><img src=\"https://colab.research.google.com/assets/colab-badge.svg\" alt=\"Open In Colab\"/></a>"
      ]
    },
    {
      "cell_type": "markdown",
      "source": [
        "#Pruebas estadística de uniformidad de Kolmogorov-Smirnov"
      ],
      "metadata": {
        "id": "4xaybkxGYr_9"
      }
    },
    {
      "cell_type": "code",
      "source": [
        "import numpy as np\n",
        "from scipy.stats import kstest\n",
        "\n",
        "# Generar 100 números aleatorios entre 0 y 1\n",
        "numeros_aleatorios = np.random.uniform(0, 1, 100)\n",
        "\n",
        "# Mostrar los números generados\n",
        "print(\"Números generados:\")\n",
        "print(numeros_aleatorios)\n",
        "\n",
        "# Realizar la prueba de Kolmogorov-Smirnov\n",
        "statistic, p_value = kstest(numeros_aleatorios, 'uniform')\n",
        "\n",
        "# Mostrar resultados\n",
        "print(f\"Estadística de prueba: {statistic}\")\n",
        "print(f\"Valor p: {p_value}\")\n",
        "\n",
        "# Interpretación del resultado\n",
        "alfa = 0.05  # Nivel de significancia\n",
        "if p_value > alfa:\n",
        "    print(\"Parece que los números generados son bastante uniformes. ¡Todo bien!\")\n",
        "else:\n",
        "    print(\"Mmm... estos números no parecen ser muy uniformes. Puede que haya algo raro.\")\n"
      ],
      "metadata": {
        "colab": {
          "base_uri": "https://localhost:8080/"
        },
        "id": "9k2Y68wGY1jh",
        "outputId": "c650a59f-f55c-4f24-bd82-30c11db5722d"
      },
      "execution_count": 2,
      "outputs": [
        {
          "output_type": "stream",
          "name": "stdout",
          "text": [
            "Números generados:\n",
            "[6.33147148e-01 7.42133423e-01 2.46123003e-01 1.16353342e-01\n",
            " 4.52970948e-01 2.58245533e-01 7.44726569e-01 9.00293057e-01\n",
            " 4.85060884e-01 5.89914627e-01 1.07228572e-02 7.06086581e-01\n",
            " 3.55725966e-01 4.69805291e-02 8.10322638e-01 6.82615171e-01\n",
            " 3.37197707e-01 8.01429020e-01 8.89492274e-01 9.94265971e-01\n",
            " 3.45617773e-01 8.30095606e-01 6.98549592e-01 3.92283617e-01\n",
            " 5.67293866e-01 9.91230628e-01 3.28023526e-01 2.13655150e-01\n",
            " 6.56743549e-01 4.04404989e-01 9.96240846e-01 5.86610426e-01\n",
            " 3.07358370e-01 8.17700342e-04 8.23395913e-01 8.85025472e-01\n",
            " 9.21344448e-01 7.59786074e-01 9.57813886e-02 5.33040844e-01\n",
            " 9.99791414e-01 8.10616193e-01 4.08905185e-01 5.24311936e-01\n",
            " 4.37529718e-01 6.04875205e-01 2.35810931e-01 2.34029718e-02\n",
            " 2.30661606e-01 1.50782859e-01 8.31102128e-01 3.83778826e-01\n",
            " 7.41599065e-01 5.25561071e-02 7.06603413e-01 9.64941964e-01\n",
            " 7.19347895e-01 8.39095595e-01 4.21832032e-01 4.43083040e-01\n",
            " 4.50190298e-01 3.98420328e-02 5.59561344e-01 9.68420869e-01\n",
            " 7.94637550e-01 9.28853030e-02 6.76363373e-01 8.02815047e-01\n",
            " 7.84753237e-01 4.66360155e-01 8.04489300e-01 5.95454541e-01\n",
            " 6.24729498e-02 9.27153401e-01 3.74830368e-01 4.24932207e-01\n",
            " 3.75234298e-01 9.91569653e-01 7.72998939e-01 9.41066681e-01\n",
            " 3.19155727e-01 2.45502898e-01 5.32646555e-01 8.94304367e-02\n",
            " 2.73282788e-01 9.04281790e-01 8.90548868e-01 4.00518188e-01\n",
            " 9.92685039e-01 3.62805278e-01 3.75134696e-02 7.19533408e-01\n",
            " 1.17684645e-02 5.01107273e-01 2.26114217e-01 7.81031268e-01\n",
            " 5.73847319e-01 5.33867544e-01 9.62786943e-01 5.09763885e-01]\n",
            "Estadística de prueba: 0.08915572663187529\n",
            "Valor p: 0.3820099910782562\n",
            "Parece que los números generados son bastante uniformes. ¡Todo bien!\n"
          ]
        }
      ]
    }
  ]
}